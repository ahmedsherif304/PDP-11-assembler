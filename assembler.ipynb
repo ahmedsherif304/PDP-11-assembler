{
 "metadata": {
  "language_info": {
   "codemirror_mode": {
    "name": "ipython",
    "version": 3
   },
   "file_extension": ".py",
   "mimetype": "text/x-python",
   "name": "python",
   "nbconvert_exporter": "python",
   "pygments_lexer": "ipython3",
   "version": "3.8.3-final"
  },
  "orig_nbformat": 2,
  "kernelspec": {
   "name": "python3",
   "display_name": "Python 3",
   "language": "python"
  }
 },
 "nbformat": 4,
 "nbformat_minor": 2,
 "cells": [
  {
   "cell_type": "code",
   "execution_count": 1,
   "metadata": {},
   "outputs": [],
   "source": [
    "instructions = {\"MOV\": {'code': '0011', 'operands': '2'}, \"ADD\": {'code': '0100', 'operands': '2'}, \"ADC\": {'code': '0101', 'operands': '2'},\n",
    "                \"SUB\": {'code': '0110', 'operands': '2'}, \"SBC\": {'code': '0111', 'operands': '2'}, \"AND\": {'code': '1000', 'operands': '2'},\n",
    "                \"OR\":  {'code': '1001', 'operands': '2'}, \"XOR\": {'code': '1010', 'operands': '2'}, \"CMP\": {'code': '1011', 'operands': '2'},\n",
    "\n",
    "                \"INC\": {'code': '0011', 'operands': '1'}, \"DEC\": {'code': '0100', 'operands': '1'}, \"CLR\": {'code': '0101', 'operands': '1'},\n",
    "                \"INV\": {'code': '0110', 'operands': '1'}, \"LSR\": {'code': '0111', 'operands': '1'}, \"ROR\": {'code': '1000', 'operands': '1'},\n",
    "                \"ASR\": {'code': '1001', 'operands': '1'}, \"LSL\": {'code': '1010', 'operands': '1'}, \"ROL\": {'code': '1011', 'operands': '1'},\n",
    "                \"JSR\": {'code': '1100', 'operands': '1'},\n",
    "\n",
    "                \"BR\": {'code': '0011', 'operands':  'b'}, \"BEQ\": {'code': '0100', 'operands': 'b'}, \"BNE\": {'code': '0101', 'operands': 'b'},\n",
    "                \"BLO\": {'code': '0110', 'operands': 'b'}, \"BLS\": {'code': '0111', 'operands': 'b'}, \"BHI\": {'code': '1000', 'operands': 'b'},\n",
    "                \"BHS\": {'code': '1001', 'operands': 'b'},\n",
    "                \"HLT\": {'code': '000', 'operands': '0'}, \"NOP\": {'code': '001', 'operands': '-1'}, \"RESET\": {'code': '010', 'operands': '0'},\n",
    "                \"RTS\": {'code': '011', 'operands': '0'}, \"IRET\": {'code': '100', 'operands': ' 0'}\n",
    "                }\n",
    "registers = {\n",
    "    \"R0\": \"000\",\n",
    "    \"R1\": \"001\",\n",
    "    \"R2\": \"010\",\n",
    "    \"R3\": \"011\",\n",
    "    \"R4\": \"100\",\n",
    "    \"R5\": \"101\",\n",
    "    \"R6\": \"110\",\n",
    "    \"R7\": \"111\"\n",
    "}"
   ]
  },
  {
   "cell_type": "code",
   "execution_count": 2,
   "metadata": {},
   "outputs": [],
   "source": [
    "def decode_operand(operand):\n",
    "    '''\n",
    "    For the PC mode ==> Rn = PC = R7:\n",
    "        Immediate = Auto-increment ==> value = [PC]\n",
    "        Absolute(Indirect Immediate) = Indirect Auto-increment ==> value = [[PC]]\n",
    "        Relative = Indexed ==> value = [X+[PC]]\n",
    "        Indirect Relative = Indirect Indexed ==> value = [[X+[PC]]]\n",
    "    '''\n",
    "\n",
    "    code = ''\n",
    "    mode = 'REG'\n",
    "    indirect = '0'\n",
    "    if operand[0] == '@':\n",
    "        operand = operand[1:]\n",
    "        indirect = '1'\n",
    "    \n",
    "    if operand in registers.keys():                         # Register\n",
    "        code = '00' + indirect + registers[operand]\n",
    "    elif operand[0] == '(' and operand[-1] == '+':          # Auto-increment\n",
    "        code = '01' + indirect + registers[operand[1:-2]]\n",
    "    elif operand[0] == '-' and operand[-1] == ')':          # Auto-decrement\n",
    "        code = '10' + indirect + registers[operand[2:-1]]\n",
    "    elif operand[0].upper() == 'X' and operand[-1] == ')':  # Indexed\n",
    "        code = '11' + indirect + registers[operand[2: -1]] \n",
    "    elif operand[0] == '#':                                 # Immediate\n",
    "        code = '01' + indirect + '111'\n",
    "        mode = 'PC'\n",
    "    else:                                                   # Relative                                                    \n",
    "        code = '11' + indirect + '111'\n",
    "        mode = 'PC'\n",
    "        \n",
    "    return code, mode"
   ]
  },
  {
   "cell_type": "code",
   "execution_count": 22,
   "metadata": {},
   "outputs": [
    {
     "output_type": "stream",
     "name": "stdout",
     "text": [
      "MOV N, R0 \nXOR R1, R1 \nMOV #20, R3 \nLABEL3: \nMOV -(R3), M \nDEC R0 \nCMP #18, @R3 \nBHI LABEL1 \nMOV #18,@R3 \nLABEL1: \nDEC R0 \nBEQ LABEL2 \nINC R3 \nLABEL2: \nBR LABEL3 \nHLT \nMOV N  R0 XOR R1  R1 MOV #20  R3 LABEL3: MOV -(R3)  M DEC R0 CMP #18  @R3 BHI LABEL1 MOV #18 @R3 LABEL1: DEC R0 BEQ LABEL2 INC R3 LABEL2: BR LABEL3 \n['MOV', 'N', 'R0', 'XOR', 'R1', 'R1', 'MOV', '#20', 'R3', 'LABEL3:', 'MOV', '-(R3)', 'M', 'DEC', 'R0', 'CMP', '#18', '@R3', 'BHI', 'LABEL1', 'MOV', '#18', '@R3', 'LABEL1:', 'DEC', 'R0', 'BEQ', 'LABEL2', 'INC', 'R3', 'LABEL2:', 'BR', 'LABEL3']\n"
     ]
    }
   ],
   "source": [
    "file = open(\"test.txt\")\n",
    "string = \"\"\n",
    "lines = []\n",
    "for line in file:\n",
    "    # split the line and get what is before the ; symbol and then make all the charchters  upper cases\n",
    "    line = line.split(';')[0].upper()\n",
    "    if line != \"\\n\":\n",
    "        string = string + line\n",
    "    if line != '\\n' and len(line)!=0:\n",
    "        lines.append(line.upper())\n",
    "\n",
    "lines = [line for line in lines if not line.startswith('DEFINE') ]\n",
    "for line in lines:\n",
    "    print(line)\n",
    "\n",
    "code = string.split(\"HLT\")[0]\n",
    "variablesString = string.split(\"HLT\")[1].split(\"DEFINE\")\n",
    "\n",
    "variables = {}\n",
    "for variable in variablesString:\n",
    "    if variable.strip():\n",
    "        x, y = variable.split()\n",
    "        variables[x] = y\n",
    "code = code.replace(',', ' ')\n",
    "# print(code)\n",
    "# print(variables)  # map of the variables\n",
    "# print(code)  # code'\n",
    "ouput = open(\"ouput.txt\", 'w')\n",
    "code = code.split()\n",
    "# print(code)"
   ]
  },
  {
   "cell_type": "code",
   "execution_count": 26,
   "metadata": {},
   "outputs": [
    {
     "output_type": "stream",
     "name": "stdout",
     "text": [
      "LABEL3 4\nLABEL1 10\nLABEL2 14\n"
     ]
    }
   ],
   "source": [
    "i = 1\n",
    "labels = {}\n",
    "# line = 1\n",
    "program = []\n",
    "for line in lines:\n",
    "    word = line.strip().replace(',', ' ').split()\n",
    "    # print(word)\n",
    "    # Label\n",
    "    if word[0] not in instructions and word[0][-1] == ':':\n",
    "        # label\n",
    "        # putting the number of the line this label in\n",
    "        labels[word[0][:-1]] = i\n",
    "        if len(word) > 1:\n",
    "            word = word[1:]\n",
    "        else:\n",
    "            i = i + 1\n",
    "            continue\n",
    "    i = i + 1\n",
    "\n",
    "    # if instructions[word]['operands'] == '-1':\n",
    "    #     # NoOp\n",
    "    #     i = i + 1\n",
    "    #     line = line + 1\n",
    "    #     continue\n",
    "\n",
    "    # # add both the operand to the file according to the operand\n",
    "    # if instructions[word]['operands'] == '2':\n",
    "    #     opcode = instructions[word]['code']\n",
    "    #     ouput.write(instructions[word]['code'])\n",
    "    #     # add the 2 operands\n",
    "    #     i = i + 2\n",
    "    # elif instructions[word]['operands'] == '1':\n",
    "    #     # add the operand\n",
    "    #     ouput.write('0000'+instructions[word]['code'])\n",
    "    #     i = i + 1\n",
    "    # elif instructions[word]['operands'] == 'b':\n",
    "    #     # add the offset\n",
    "    #     ouput.write('0001'+instructions[word]['code'])\n",
    "    #     i = i + 1\n",
    "    # elif instructions[word]['operands'] == '0':\n",
    "    #     ouput.write('0010', instructions[word]['code'])\n",
    "    # # for debugging purpose\n",
    "    # ouput.write('\\n')\n",
    "    # i = i + 1\n",
    "    # line = line + 1\n",
    "for key in labels:\n",
    "    print(key, labels[key])"
   ]
  }
 ]
}